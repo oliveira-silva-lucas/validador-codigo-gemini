{
  "cells": [
    {
      "cell_type": "code",
      "execution_count": null,
      "metadata": {
        "collapsed": true,
        "id": "92jaWeKkzyje"
      },
      "outputs": [],
      "source": [
        "#Instalar a biblioteca necessária\n",
        "#pip install -q -U google-generativeai"
      ]
    },
    {
      "cell_type": "code",
      "execution_count": null,
      "metadata": {
        "colab": {
          "base_uri": "https://localhost:8080/",
          "height": 255
        },
        "id": "K4jQ26Wu0K_9",
        "outputId": "a246fbf2-2362-4e08-a599-f36ffb72a7ec"
      },
      "outputs": [
        {
          "name": "stdout",
          "output_type": "stream",
          "text": [
            "O código `printf(\"Olá Mundo\")`  está incorreto em Python.  A função `printf` não é uma função nativa da linguagem Python.  Para imprimir na tela em Python, deve-se usar a função `print()`.\n",
            "\n",
            "**Erro:** Uso incorreto da função `printf`.  Este é um erro de sintaxe, pois `printf` não é reconhecido como uma função válida em Python.\n",
            "\n",
            "**Correção:**\n",
            "\n",
            "```python\n",
            "print(\"Olá Mundo\")\n",
            "```\n",
            "\n",
            "**Melhoria:** O código corrigido é conciso e utiliza a função `print()` corretamente, seguindo as boas práticas de programação em Python.  Não há necessidade de modificações adicionais.\n",
            "\n"
          ]
        }
      ],
      "source": [
        "import google.generativeai as genai\n",
        "\n",
        "#Definir chave da api\n",
        "genai.configure(api_key=\"CHAVE_API\")\n",
        "\n",
        "def gerar_prompt_melhorias_codigo(codigo):\n",
        "  prompt = [\n",
        "    'Você é um assistente de IA especialista em Python. Sua tarefa é analisar o código fornecido, identificar possíveis erros de sintaxe, lógica, ou boas práticas, e sugerir melhorias. Responda de forma clara e objetiva.',\n",
        "    f'Analise o seguinte trecho de código Python e forneça uma validação detalhada:\\n\\n{codigo}'\n",
        "  ]\n",
        "  return prompt\n",
        "\n",
        "#instanciar modelo, se não \n",
        "modelo = genai.GenerativeModel()\n",
        "#Consultar Gemini\n",
        "resposta = modelo.generate_content(gerar_prompt_melhorias_codigo('printf(\"Olá Mundo\")'))\n",
        "\n",
        "print(resposta.text)\n"
      ]
    },
    {
      "cell_type": "code",
      "execution_count": 7,
      "metadata": {
        "colab": {
          "base_uri": "https://localhost:8080/",
          "height": 582
        },
        "id": "u_M1haM9Vf6I",
        "outputId": "ff7273ae-dc7c-4b0a-f180-09c82575256e"
      },
      "outputs": [
        {
          "name": "stdout",
          "output_type": "stream",
          "text": [
            "O código funciona corretamente para listas contendo apenas números, mas apresenta um problema crucial de **robusiness**.  Se a lista `numeros` estiver vazia, a função `calcular_media` causará uma `ZeroDivisionError` porque `len(lista)` será 0, resultando em uma divisão por zero.\n",
            "\n",
            "**Melhorias:**\n",
            "\n",
            "1. **Tratamento de lista vazia:**  Deve-se adicionar uma verificação para lidar com o caso de uma lista vazia.  Uma abordagem comum é retornar 0 ou levantar uma exceção.  Recomendo a primeira opção para maior simplicidade neste caso.\n",
            "\n",
            "2. **Uso de `sum()`:** A função `sum()` é mais eficiente e concisa para somar os elementos de uma lista do que um loop `for`.\n",
            "\n",
            "3. **Docstrings:** Adicionar uma docstring para descrever a função e seu funcionamento.\n",
            "\n",
            "**Código melhorado:**\n",
            "\n",
            "```python\n",
            "def calcular_media(lista):\n",
            "    \"\"\"Calcula a média dos números em uma lista. Retorna 0 se a lista estiver vazia.\"\"\"\n",
            "    if not lista:\n",
            "        return 0\n",
            "    return sum(lista) / len(lista)\n",
            "\n",
            "numeros = [10, 20, 30]\n",
            "media = calcular_media(numeros)\n",
            "print(f\"A média é: {media}\")\n",
            "\n",
            "numeros_vazios = []\n",
            "media_vazia = calcular_media(numeros_vazios)\n",
            "print(f\"A média da lista vazia é: {media_vazia}\") #Saída: 0\n",
            "```\n",
            "\n",
            "Este código revisado é mais robusto, eficiente e legível, prevenindo erros de `ZeroDivisionError` e utilizando melhor as ferramentas da linguagem Python.  A adição de um exemplo com uma lista vazia demonstra a correção do tratamento de exceção.\n",
            "\n"
          ]
        }
      ],
      "source": [
        "codigo_para_validar = \"\"\"\n",
        "def calcular_media(lista):\n",
        "    total = 0\n",
        "    for i in range(len(lista)):\n",
        "        total += lista[i]\n",
        "    return total / len(lista)\n",
        "\n",
        "numeros = [10, 20, 30]\n",
        "media = calcular_media(numeros)\n",
        "print(f\"A média é: {media}\")\"\"\"\n",
        "\n",
        "resposta = modelo.generate_content(gerar_prompt_melhorias_codigo(codigo_para_validar))\n",
        "\n",
        "print(resposta.text)\n",
        "\n"
      ]
    }
  ],
  "metadata": {
    "colab": {
      "provenance": []
    },
    "kernelspec": {
      "display_name": "Python 3",
      "name": "python3"
    },
    "language_info": {
      "name": "python"
    }
  },
  "nbformat": 4,
  "nbformat_minor": 0
}
